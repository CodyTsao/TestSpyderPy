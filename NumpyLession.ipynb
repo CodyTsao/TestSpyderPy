{
 "cells": [
  {
   "cell_type": "code",
   "execution_count": 1,
   "id": "09b369e9",
   "metadata": {},
   "outputs": [
    {
     "data": {
      "text/plain": [
       "1305"
      ]
     },
     "execution_count": 1,
     "metadata": {},
     "output_type": "execute_result"
    }
   ],
   "source": [
    "a=15\n",
    "b=87\n",
    "a*b"
   ]
  },
  {
   "cell_type": "code",
   "execution_count": null,
   "id": "0395b0e9",
   "metadata": {},
   "outputs": [],
   "source": []
  },
  {
   "cell_type": "code",
   "execution_count": 2,
   "id": "1cf5dddb",
   "metadata": {},
   "outputs": [
    {
     "name": "stdout",
     "output_type": "stream",
     "text": [
      "[62 63 72 57 63]\n",
      "[170 172 175 167 166]\n"
     ]
    }
   ],
   "source": [
    "import numpy as np\n",
    "height = np.array([170,172,175,167,166])\n",
    "weight = np.array([62,63,72,57,63])\n",
    "print(weight)\n",
    "print(height)"
   ]
  },
  {
   "cell_type": "code",
   "execution_count": 27,
   "id": "b18225a8",
   "metadata": {},
   "outputs": [
    {
     "name": "stdout",
     "output_type": "stream",
     "text": [
      "[21.4532872  21.29529475 23.51020408 20.43816558 22.86253448]\n"
     ]
    }
   ],
   "source": [
    "bmi = (weight)/((height/100)**2)\n",
    "print(bmi)"
   ]
  },
  {
   "cell_type": "code",
   "execution_count": 29,
   "id": "d17594bc",
   "metadata": {},
   "outputs": [
    {
     "data": {
      "text/plain": [
       "array([23.51020408, 22.86253448])"
      ]
     },
     "execution_count": 29,
     "metadata": {},
     "output_type": "execute_result"
    }
   ],
   "source": [
    "bmi[bmi>21.5]"
   ]
  },
  {
   "cell_type": "code",
   "execution_count": 33,
   "id": "abc53fdb",
   "metadata": {},
   "outputs": [
    {
     "data": {
      "text/plain": [
       "array([21.4532872 , 21.29529475, 23.51020408, 20.43816558, 22.86253448])"
      ]
     },
     "execution_count": 33,
     "metadata": {},
     "output_type": "execute_result"
    }
   ],
   "source": [
    "bmi[bmi>16]"
   ]
  },
  {
   "cell_type": "code",
   "execution_count": 4,
   "id": "abba1175",
   "metadata": {},
   "outputs": [
    {
     "name": "stdout",
     "output_type": "stream",
     "text": [
      "[[65 60 90]\n",
      " [85 90 40]\n",
      " [80 95 45]]\n"
     ]
    }
   ],
   "source": [
    "matrix=np.array([[65,60,90],[85,90,40],[80,95,45]])\n",
    "print(matrix)"
   ]
  },
  {
   "cell_type": "code",
   "execution_count": 11,
   "id": "7945e990",
   "metadata": {},
   "outputs": [
    {
     "name": "stdout",
     "output_type": "stream",
     "text": [
      "2\n",
      "(3, 3)\n",
      "int32\n",
      "3\n",
      "9\n",
      "3\n"
     ]
    }
   ],
   "source": [
    "print(matrix.ndim)\n",
    "print(matrix.shape)\n",
    "print(matrix.dtype)\n",
    "print(len(matrix))\n",
    "print(matrix.size)\n",
    "print(len(matrix[1]))"
   ]
  },
  {
   "cell_type": "code",
   "execution_count": 18,
   "id": "8f91064c",
   "metadata": {},
   "outputs": [
    {
     "name": "stdout",
     "output_type": "stream",
     "text": [
      "[0 1 2 3 4 5 6 7 8 9]\n",
      "[ 2  4  6  8 10 12]\n",
      "[1.  1.5 2.  2.5 3. ]\n"
     ]
    }
   ],
   "source": [
    "matar = np.arange(10)\n",
    "print(mat)\n",
    "matarr=np.arange(2,13,2)\n",
    "print(matarr)\n",
    "matlin = np.linspace(1,3,5)\n",
    "print(matlin)"
   ]
  },
  {
   "cell_type": "code",
   "execution_count": 21,
   "id": "74a4da29",
   "metadata": {},
   "outputs": [
    {
     "name": "stdout",
     "output_type": "stream",
     "text": [
      "[[0. 0. 0.]\n",
      " [0. 0. 0.]\n",
      " [0. 0. 0.]\n",
      " [0. 0. 0.]\n",
      " [0. 0. 0.]]\n",
      "[[1. 1. 1. 1. 1.]\n",
      " [1. 1. 1. 1. 1.]]\n",
      "[[2 2 2]\n",
      " [2 2 2]\n",
      " [2 2 2]\n",
      " [2 2 2]]\n"
     ]
    }
   ],
   "source": [
    "matzero = np.zeros((5,3))\n",
    "print(matzero)\n",
    "matone=np.ones((2,5))\n",
    "print(matone)\n",
    "matfull = np.full((4,3),2)\n",
    "print(matfull)"
   ]
  },
  {
   "cell_type": "code",
   "execution_count": 24,
   "id": "d923c03f",
   "metadata": {},
   "outputs": [
    {
     "name": "stdout",
     "output_type": "stream",
     "text": [
      "[0.96726001 0.16885488 0.01551893 0.96138555 0.07615778]\n",
      "[[24 27 21]\n",
      " [22 25 29]\n",
      " [20 28 22]\n",
      " [29 26 24]]\n",
      "[[166.14082473 174.46965746 175.38161489]\n",
      " [172.34214742 169.10888111 176.57758757]\n",
      " [174.80310364 168.55839429 166.16582948]]\n"
     ]
    }
   ],
   "source": [
    "matran = np.random.random_sample(5)\n",
    "print(matran)\n",
    "matranint = np.random.randint(20,30,[4,3])\n",
    "print(matranint)\n",
    "matrannor = np.random.normal(173,3,[3,3])\n",
    "print(matrannor)"
   ]
  },
  {
   "cell_type": "code",
   "execution_count": 26,
   "id": "92aff988",
   "metadata": {},
   "outputs": [
    {
     "name": "stdout",
     "output_type": "stream",
     "text": [
      "[[1. 0. 0.]\n",
      " [0. 1. 0.]\n",
      " [0. 0. 1.]]\n",
      "[[2 0 0 0]\n",
      " [0 2 0 0]\n",
      " [0 0 3 0]\n",
      " [0 0 0 5]]\n"
     ]
    }
   ],
   "source": [
    "matiden = np.eye(3)\n",
    "print(matiden)\n",
    "matdia = np.diag([2,2,3,5])\n",
    "print(matdia)"
   ]
  },
  {
   "cell_type": "code",
   "execution_count": null,
   "id": "2b76dd74",
   "metadata": {},
   "outputs": [],
   "source": []
  }
 ],
 "metadata": {
  "kernelspec": {
   "display_name": "Python 3",
   "language": "python",
   "name": "python3"
  },
  "language_info": {
   "codemirror_mode": {
    "name": "ipython",
    "version": 3
   },
   "file_extension": ".py",
   "mimetype": "text/x-python",
   "name": "python",
   "nbconvert_exporter": "python",
   "pygments_lexer": "ipython3",
   "version": "3.8.8"
  }
 },
 "nbformat": 4,
 "nbformat_minor": 5
}
